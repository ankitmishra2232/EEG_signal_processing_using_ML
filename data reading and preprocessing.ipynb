{
 "cells": [
  {
   "cell_type": "code",
   "execution_count": 1,
   "id": "f28ed706",
   "metadata": {},
   "outputs": [],
   "source": [
    "import mne\n",
    "import glob\n",
    "import numpy as np\n",
    "import pandas as pd"
   ]
  },
  {
   "cell_type": "code",
   "execution_count": 2,
   "id": "2f9b5ee3",
   "metadata": {},
   "outputs": [],
   "source": [
    "# List of .bdf EEG data files\n",
    "filenames = glob.glob(\"E:/Signal/New folder/*.bdf\")"
   ]
  },
  {
   "cell_type": "code",
   "execution_count": 3,
   "id": "bca5b2cb",
   "metadata": {},
   "outputs": [
    {
     "data": {
      "text/plain": [
       "['E:/Signal/New folder\\\\s01.bdf',\n",
       " 'E:/Signal/New folder\\\\s02.bdf',\n",
       " 'E:/Signal/New folder\\\\s03.bdf',\n",
       " 'E:/Signal/New folder\\\\s04.bdf',\n",
       " 'E:/Signal/New folder\\\\s05.bdf',\n",
       " 'E:/Signal/New folder\\\\s06.bdf',\n",
       " 'E:/Signal/New folder\\\\s07.bdf',\n",
       " 'E:/Signal/New folder\\\\s08.bdf',\n",
       " 'E:/Signal/New folder\\\\s09.bdf',\n",
       " 'E:/Signal/New folder\\\\s10.bdf',\n",
       " 'E:/Signal/New folder\\\\s11.bdf',\n",
       " 'E:/Signal/New folder\\\\s12.bdf',\n",
       " 'E:/Signal/New folder\\\\s13.bdf',\n",
       " 'E:/Signal/New folder\\\\s14.bdf',\n",
       " 'E:/Signal/New folder\\\\s15.bdf',\n",
       " 'E:/Signal/New folder\\\\s16.bdf',\n",
       " 'E:/Signal/New folder\\\\s17.bdf',\n",
       " 'E:/Signal/New folder\\\\s18.bdf',\n",
       " 'E:/Signal/New folder\\\\s19.bdf',\n",
       " 'E:/Signal/New folder\\\\s20.bdf',\n",
       " 'E:/Signal/New folder\\\\s21.bdf',\n",
       " 'E:/Signal/New folder\\\\s22.bdf',\n",
       " 'E:/Signal/New folder\\\\s24.bdf',\n",
       " 'E:/Signal/New folder\\\\s25.bdf',\n",
       " 'E:/Signal/New folder\\\\s26.bdf',\n",
       " 'E:/Signal/New folder\\\\s27.bdf',\n",
       " 'E:/Signal/New folder\\\\s28.bdf',\n",
       " 'E:/Signal/New folder\\\\s29.bdf',\n",
       " 'E:/Signal/New folder\\\\s30.bdf',\n",
       " 'E:/Signal/New folder\\\\s31.bdf',\n",
       " 'E:/Signal/New folder\\\\s32.bdf']"
      ]
     },
     "execution_count": 3,
     "metadata": {},
     "output_type": "execute_result"
    }
   ],
   "source": [
    "filenames"
   ]
  },
  {
   "cell_type": "code",
   "execution_count": 4,
   "id": "8ebdfcb9",
   "metadata": {},
   "outputs": [
    {
     "name": "stdout",
     "output_type": "stream",
     "text": [
      "Extracting EDF parameters from E:\\Signal\\New folder\\s01.bdf...\n",
      "BDF file detected\n",
      "Setting channel info structure...\n",
      "Creating raw.info structure...\n",
      "Trigger channel has a non-zero initial value of 65536 (consider using initial_event=True to detect this event)\n",
      "Removing orphaned offset at the beginning of the file.\n",
      "13760 events found\n",
      "Event IDs: [1 2 3 4 5 6 7]\n",
      "Trigger channel has a non-zero initial value of 65536 (consider using initial_event=True to detect this event)\n",
      "Removing orphaned offset at the beginning of the file.\n",
      "298 events found\n",
      "Event IDs: [1 2 3 4 5 6 7]\n",
      "Extracting EDF parameters from E:\\Signal\\New folder\\s02.bdf...\n",
      "BDF file detected\n",
      "Setting channel info structure...\n",
      "Creating raw.info structure...\n"
     ]
    },
    {
     "name": "stderr",
     "output_type": "stream",
     "text": [
      "C:\\Users\\ankit\\AppData\\Local\\Temp\\ipykernel_11300\\3223892504.py:5: RuntimeWarning: Resampling of the stim channels caused event information to become unreliable. Consider finding events on the original data and passing the event matrix as a parameter.\n",
      "  raw.resample(128)\n"
     ]
    },
    {
     "name": "stdout",
     "output_type": "stream",
     "text": [
      "Trigger channel has a non-zero initial value of 65536 (consider using initial_event=True to detect this event)\n",
      "Removing orphaned offset at the beginning of the file.\n",
      "287 events found\n",
      "Event IDs: [1 2 3 4 5 7]\n",
      "Trigger channel has a non-zero initial value of 65536 (consider using initial_event=True to detect this event)\n",
      "Removing orphaned offset at the beginning of the file.\n",
      "286 events found\n",
      "Event IDs: [1 2 3 4 5 7]\n",
      "Extracting EDF parameters from E:\\Signal\\New folder\\s03.bdf...\n",
      "BDF file detected\n",
      "Setting channel info structure...\n",
      "Creating raw.info structure...\n"
     ]
    },
    {
     "name": "stderr",
     "output_type": "stream",
     "text": [
      "C:\\Users\\ankit\\AppData\\Local\\Temp\\ipykernel_11300\\3223892504.py:5: RuntimeWarning: Resampling of the stim channels caused event information to become unreliable. Consider finding events on the original data and passing the event matrix as a parameter.\n",
      "  raw.resample(128)\n"
     ]
    },
    {
     "name": "stdout",
     "output_type": "stream",
     "text": [
      "Trigger channel has a non-zero initial value of 65536 (consider using initial_event=True to detect this event)\n",
      "Removing orphaned offset at the beginning of the file.\n",
      "284 events found\n",
      "Event IDs: [1 2 3 4 5 7]\n",
      "Trigger channel has a non-zero initial value of 65536 (consider using initial_event=True to detect this event)\n",
      "Removing orphaned offset at the beginning of the file.\n",
      "284 events found\n",
      "Event IDs: [1 2 3 4 5 7]\n",
      "Extracting EDF parameters from E:\\Signal\\New folder\\s04.bdf...\n",
      "BDF file detected\n",
      "Setting channel info structure...\n",
      "Creating raw.info structure...\n",
      "Trigger channel has a non-zero initial value of 65536 (consider using initial_event=True to detect this event)\n",
      "Removing orphaned offset at the beginning of the file.\n",
      "286 events found\n",
      "Event IDs: [1 2 3 4 5 7]\n",
      "Trigger channel has a non-zero initial value of 65536 (consider using initial_event=True to detect this event)\n",
      "Removing orphaned offset at the beginning of the file.\n",
      "285 events found\n",
      "Event IDs: [1 2 3 4 5 7]\n",
      "Extracting EDF parameters from E:\\Signal\\New folder\\s05.bdf...\n",
      "BDF file detected\n",
      "Setting channel info structure...\n",
      "Creating raw.info structure...\n"
     ]
    },
    {
     "name": "stderr",
     "output_type": "stream",
     "text": [
      "C:\\Users\\ankit\\AppData\\Local\\Temp\\ipykernel_11300\\3223892504.py:5: RuntimeWarning: Resampling of the stim channels caused event information to become unreliable. Consider finding events on the original data and passing the event matrix as a parameter.\n",
      "  raw.resample(128)\n"
     ]
    },
    {
     "name": "stdout",
     "output_type": "stream",
     "text": [
      "Trigger channel has a non-zero initial value of 65536 (consider using initial_event=True to detect this event)\n",
      "Removing orphaned offset at the beginning of the file.\n",
      "288 events found\n",
      "Event IDs: [1 2 3 4 5 7]\n",
      "Trigger channel has a non-zero initial value of 65536 (consider using initial_event=True to detect this event)\n",
      "Removing orphaned offset at the beginning of the file.\n",
      "288 events found\n",
      "Event IDs: [1 2 3 4 5 7]\n",
      "Extracting EDF parameters from E:\\Signal\\New folder\\s06.bdf...\n",
      "BDF file detected\n",
      "Setting channel info structure...\n",
      "Creating raw.info structure...\n",
      "Trigger channel has a non-zero initial value of 65536 (consider using initial_event=True to detect this event)\n",
      "Removing orphaned offset at the beginning of the file.\n",
      "288 events found\n",
      "Event IDs: [1 2 3 4 5 7]\n",
      "Trigger channel has a non-zero initial value of 65536 (consider using initial_event=True to detect this event)\n",
      "Removing orphaned offset at the beginning of the file.\n",
      "287 events found\n",
      "Event IDs: [1 2 3 4 5 7]\n",
      "Extracting EDF parameters from E:\\Signal\\New folder\\s07.bdf...\n",
      "BDF file detected\n",
      "Setting channel info structure...\n",
      "Creating raw.info structure...\n"
     ]
    },
    {
     "name": "stderr",
     "output_type": "stream",
     "text": [
      "C:\\Users\\ankit\\AppData\\Local\\Temp\\ipykernel_11300\\3223892504.py:5: RuntimeWarning: Resampling of the stim channels caused event information to become unreliable. Consider finding events on the original data and passing the event matrix as a parameter.\n",
      "  raw.resample(128)\n"
     ]
    },
    {
     "name": "stdout",
     "output_type": "stream",
     "text": [
      "Trigger channel has a non-zero initial value of 65536 (consider using initial_event=True to detect this event)\n",
      "Removing orphaned offset at the beginning of the file.\n",
      "288 events found\n",
      "Event IDs: [1 2 3 4 5 7]\n",
      "Trigger channel has a non-zero initial value of 65536 (consider using initial_event=True to detect this event)\n",
      "Removing orphaned offset at the beginning of the file.\n",
      "287 events found\n",
      "Event IDs: [1 2 3 4 5 7]\n",
      "Extracting EDF parameters from E:\\Signal\\New folder\\s08.bdf...\n",
      "BDF file detected\n",
      "Setting channel info structure...\n",
      "Creating raw.info structure...\n"
     ]
    },
    {
     "name": "stderr",
     "output_type": "stream",
     "text": [
      "C:\\Users\\ankit\\AppData\\Local\\Temp\\ipykernel_11300\\3223892504.py:5: RuntimeWarning: Resampling of the stim channels caused event information to become unreliable. Consider finding events on the original data and passing the event matrix as a parameter.\n",
      "  raw.resample(128)\n"
     ]
    },
    {
     "name": "stdout",
     "output_type": "stream",
     "text": [
      "Trigger channel has a non-zero initial value of 65536 (consider using initial_event=True to detect this event)\n",
      "Removing orphaned offset at the beginning of the file.\n",
      "288 events found\n",
      "Event IDs: [1 2 3 4 5 7]\n",
      "Trigger channel has a non-zero initial value of 65536 (consider using initial_event=True to detect this event)\n",
      "Removing orphaned offset at the beginning of the file.\n",
      "287 events found\n",
      "Event IDs: [1 2 3 4 5 7]\n",
      "Extracting EDF parameters from E:\\Signal\\New folder\\s09.bdf...\n",
      "BDF file detected\n",
      "Setting channel info structure...\n",
      "Creating raw.info structure...\n"
     ]
    },
    {
     "name": "stderr",
     "output_type": "stream",
     "text": [
      "C:\\Users\\ankit\\AppData\\Local\\Temp\\ipykernel_11300\\3223892504.py:5: RuntimeWarning: Resampling of the stim channels caused event information to become unreliable. Consider finding events on the original data and passing the event matrix as a parameter.\n",
      "  raw.resample(128)\n"
     ]
    },
    {
     "name": "stdout",
     "output_type": "stream",
     "text": [
      "Trigger channel has a non-zero initial value of 65536 (consider using initial_event=True to detect this event)\n",
      "Removing orphaned offset at the beginning of the file.\n",
      "288 events found\n",
      "Event IDs: [1 2 3 4 5 7]\n",
      "Trigger channel has a non-zero initial value of 65536 (consider using initial_event=True to detect this event)\n",
      "Removing orphaned offset at the beginning of the file.\n",
      "287 events found\n",
      "Event IDs: [1 2 3 4 5 7]\n",
      "Extracting EDF parameters from E:\\Signal\\New folder\\s10.bdf...\n",
      "BDF file detected\n",
      "Setting channel info structure...\n",
      "Creating raw.info structure...\n"
     ]
    },
    {
     "name": "stderr",
     "output_type": "stream",
     "text": [
      "C:\\Users\\ankit\\AppData\\Local\\Temp\\ipykernel_11300\\3223892504.py:5: RuntimeWarning: Resampling of the stim channels caused event information to become unreliable. Consider finding events on the original data and passing the event matrix as a parameter.\n",
      "  raw.resample(128)\n"
     ]
    },
    {
     "name": "stdout",
     "output_type": "stream",
     "text": [
      "Trigger channel has a non-zero initial value of 65536 (consider using initial_event=True to detect this event)\n",
      "Removing orphaned offset at the beginning of the file.\n",
      "288 events found\n",
      "Event IDs: [1 2 3 4 5 7]\n",
      "Trigger channel has a non-zero initial value of 65536 (consider using initial_event=True to detect this event)\n",
      "Removing orphaned offset at the beginning of the file.\n",
      "288 events found\n",
      "Event IDs: [1 2 3 4 5 7]\n",
      "Extracting EDF parameters from E:\\Signal\\New folder\\s11.bdf...\n",
      "BDF file detected\n",
      "Setting channel info structure...\n",
      "Creating raw.info structure...\n",
      "Trigger channel has a non-zero initial value of 65536 (consider using initial_event=True to detect this event)\n",
      "Removing orphaned offset at the beginning of the file.\n",
      "288 events found\n",
      "Event IDs: [1 2 3 4 5 7]\n",
      "Trigger channel has a non-zero initial value of 65536 (consider using initial_event=True to detect this event)\n",
      "Removing orphaned offset at the beginning of the file.\n",
      "287 events found\n",
      "Event IDs: [1 2 3 4 5 7]\n",
      "Extracting EDF parameters from E:\\Signal\\New folder\\s12.bdf...\n",
      "BDF file detected\n",
      "Setting channel info structure...\n",
      "Creating raw.info structure...\n"
     ]
    },
    {
     "name": "stderr",
     "output_type": "stream",
     "text": [
      "C:\\Users\\ankit\\AppData\\Local\\Temp\\ipykernel_11300\\3223892504.py:5: RuntimeWarning: Resampling of the stim channels caused event information to become unreliable. Consider finding events on the original data and passing the event matrix as a parameter.\n",
      "  raw.resample(128)\n"
     ]
    },
    {
     "name": "stdout",
     "output_type": "stream",
     "text": [
      "Trigger channel has a non-zero initial value of 65536 (consider using initial_event=True to detect this event)\n",
      "Removing orphaned offset at the beginning of the file.\n",
      "288 events found\n",
      "Event IDs: [1 2 3 4 5 7]\n",
      "Trigger channel has a non-zero initial value of 65536 (consider using initial_event=True to detect this event)\n",
      "Removing orphaned offset at the beginning of the file.\n",
      "287 events found\n",
      "Event IDs: [1 2 3 4 5 7]\n",
      "Extracting EDF parameters from E:\\Signal\\New folder\\s13.bdf...\n",
      "BDF file detected\n",
      "Setting channel info structure...\n",
      "Creating raw.info structure...\n"
     ]
    },
    {
     "name": "stderr",
     "output_type": "stream",
     "text": [
      "C:\\Users\\ankit\\AppData\\Local\\Temp\\ipykernel_11300\\3223892504.py:5: RuntimeWarning: Resampling of the stim channels caused event information to become unreliable. Consider finding events on the original data and passing the event matrix as a parameter.\n",
      "  raw.resample(128)\n"
     ]
    },
    {
     "name": "stdout",
     "output_type": "stream",
     "text": [
      "Trigger channel has a non-zero initial value of 65536 (consider using initial_event=True to detect this event)\n",
      "Removing orphaned offset at the beginning of the file.\n",
      "289 events found\n",
      "Event IDs: [    1     2     3     4     5     7 65536]\n",
      "Trigger channel has a non-zero initial value of 65536 (consider using initial_event=True to detect this event)\n",
      "Removing orphaned offset at the beginning of the file.\n",
      "289 events found\n",
      "Event IDs: [    1     2     3     4     5     7 65536]\n",
      "Extracting EDF parameters from E:\\Signal\\New folder\\s14.bdf...\n",
      "BDF file detected\n",
      "Setting channel info structure...\n",
      "Creating raw.info structure...\n",
      "Trigger channel has a non-zero initial value of 65536 (consider using initial_event=True to detect this event)\n",
      "Removing orphaned offset at the beginning of the file.\n",
      "288 events found\n",
      "Event IDs: [1 2 3 4 5 7]\n",
      "Trigger channel has a non-zero initial value of 65536 (consider using initial_event=True to detect this event)\n",
      "Removing orphaned offset at the beginning of the file.\n",
      "287 events found\n",
      "Event IDs: [1 2 3 4 5 7]\n",
      "Extracting EDF parameters from E:\\Signal\\New folder\\s15.bdf...\n",
      "BDF file detected\n",
      "Setting channel info structure...\n",
      "Creating raw.info structure...\n"
     ]
    },
    {
     "name": "stderr",
     "output_type": "stream",
     "text": [
      "C:\\Users\\ankit\\AppData\\Local\\Temp\\ipykernel_11300\\3223892504.py:5: RuntimeWarning: Resampling of the stim channels caused event information to become unreliable. Consider finding events on the original data and passing the event matrix as a parameter.\n",
      "  raw.resample(128)\n"
     ]
    },
    {
     "name": "stdout",
     "output_type": "stream",
     "text": [
      "Trigger channel has a non-zero initial value of 65536 (consider using initial_event=True to detect this event)\n",
      "Removing orphaned offset at the beginning of the file.\n",
      "288 events found\n",
      "Event IDs: [1 2 3 4 5 7]\n",
      "Trigger channel has a non-zero initial value of 65536 (consider using initial_event=True to detect this event)\n",
      "Removing orphaned offset at the beginning of the file.\n",
      "288 events found\n",
      "Event IDs: [1 2 3 4 5 7]\n",
      "Extracting EDF parameters from E:\\Signal\\New folder\\s16.bdf...\n",
      "BDF file detected\n",
      "Setting channel info structure...\n",
      "Creating raw.info structure...\n",
      "Trigger channel has a non-zero initial value of 65536 (consider using initial_event=True to detect this event)\n",
      "Removing orphaned offset at the beginning of the file.\n",
      "288 events found\n",
      "Event IDs: [1 2 3 4 5 7]\n",
      "Trigger channel has a non-zero initial value of 65536 (consider using initial_event=True to detect this event)\n",
      "Removing orphaned offset at the beginning of the file.\n",
      "288 events found\n",
      "Event IDs: [1 2 3 4 5 7]\n",
      "Extracting EDF parameters from E:\\Signal\\New folder\\s17.bdf...\n",
      "BDF file detected\n",
      "Setting channel info structure...\n",
      "Creating raw.info structure...\n",
      "Trigger channel has a non-zero initial value of 65536 (consider using initial_event=True to detect this event)\n",
      "Removing orphaned offset at the beginning of the file.\n",
      "288 events found\n",
      "Event IDs: [1 2 3 4 5 7]\n",
      "Trigger channel has a non-zero initial value of 65536 (consider using initial_event=True to detect this event)\n",
      "Removing orphaned offset at the beginning of the file.\n",
      "288 events found\n",
      "Event IDs: [1 2 3 4 5 7]\n",
      "Extracting EDF parameters from E:\\Signal\\New folder\\s18.bdf...\n",
      "BDF file detected\n",
      "Setting channel info structure...\n",
      "Creating raw.info structure...\n",
      "Trigger channel has a non-zero initial value of 65536 (consider using initial_event=True to detect this event)\n",
      "Removing orphaned offset at the beginning of the file.\n",
      "288 events found\n",
      "Event IDs: [1 2 3 4 5 7]\n",
      "Trigger channel has a non-zero initial value of 65536 (consider using initial_event=True to detect this event)\n",
      "Removing orphaned offset at the beginning of the file.\n",
      "288 events found\n",
      "Event IDs: [1 2 3 4 5 7]\n",
      "Extracting EDF parameters from E:\\Signal\\New folder\\s19.bdf...\n",
      "BDF file detected\n",
      "Setting channel info structure...\n",
      "Creating raw.info structure...\n",
      "Trigger channel has a non-zero initial value of 65536 (consider using initial_event=True to detect this event)\n",
      "Removing orphaned offset at the beginning of the file.\n",
      "288 events found\n",
      "Event IDs: [1 2 3 4 5 7]\n",
      "Trigger channel has a non-zero initial value of 65536 (consider using initial_event=True to detect this event)\n",
      "Removing orphaned offset at the beginning of the file.\n",
      "287 events found\n",
      "Event IDs: [1 2 3 4 5 7]\n",
      "Extracting EDF parameters from E:\\Signal\\New folder\\s20.bdf...\n",
      "BDF file detected\n",
      "Setting channel info structure...\n",
      "Creating raw.info structure...\n"
     ]
    },
    {
     "name": "stderr",
     "output_type": "stream",
     "text": [
      "C:\\Users\\ankit\\AppData\\Local\\Temp\\ipykernel_11300\\3223892504.py:5: RuntimeWarning: Resampling of the stim channels caused event information to become unreliable. Consider finding events on the original data and passing the event matrix as a parameter.\n",
      "  raw.resample(128)\n"
     ]
    },
    {
     "name": "stdout",
     "output_type": "stream",
     "text": [
      "Trigger channel has a non-zero initial value of 65536 (consider using initial_event=True to detect this event)\n",
      "Removing orphaned offset at the beginning of the file.\n",
      "288 events found\n",
      "Event IDs: [1 2 3 4 5 7]\n",
      "Trigger channel has a non-zero initial value of 65536 (consider using initial_event=True to detect this event)\n",
      "Removing orphaned offset at the beginning of the file.\n",
      "288 events found\n",
      "Event IDs: [1 2 3 4 5 7]\n",
      "Extracting EDF parameters from E:\\Signal\\New folder\\s21.bdf...\n",
      "BDF file detected\n",
      "Setting channel info structure...\n",
      "Creating raw.info structure...\n",
      "Trigger channel has a non-zero initial value of 65536 (consider using initial_event=True to detect this event)\n",
      "Removing orphaned offset at the beginning of the file.\n",
      "289 events found\n",
      "Event IDs: [1 2 3 4 5 7]\n",
      "Trigger channel has a non-zero initial value of 65536 (consider using initial_event=True to detect this event)\n",
      "Removing orphaned offset at the beginning of the file.\n",
      "289 events found\n",
      "Event IDs: [1 2 3 4 5 7]\n",
      "Extracting EDF parameters from E:\\Signal\\New folder\\s22.bdf...\n",
      "BDF file detected\n",
      "Setting channel info structure...\n",
      "Creating raw.info structure...\n",
      "Trigger channel has a non-zero initial value of 65536 (consider using initial_event=True to detect this event)\n",
      "Removing orphaned offset at the beginning of the file.\n",
      "288 events found\n",
      "Event IDs: [1 2 3 4 5 7]\n",
      "Trigger channel has a non-zero initial value of 65536 (consider using initial_event=True to detect this event)\n",
      "Removing orphaned offset at the beginning of the file.\n",
      "288 events found\n",
      "Event IDs: [1 2 3 4 5 7]\n",
      "Extracting EDF parameters from E:\\Signal\\New folder\\s24.bdf...\n",
      "BDF file detected\n",
      "Setting channel info structure...\n",
      "Creating raw.info structure...\n",
      "Extracting EDF parameters from E:\\Signal\\New folder\\s25.bdf...\n",
      "BDF file detected\n",
      "Setting channel info structure...\n",
      "Creating raw.info structure...\n",
      "Extracting EDF parameters from E:\\Signal\\New folder\\s26.bdf...\n",
      "BDF file detected\n",
      "Setting channel info structure...\n",
      "Creating raw.info structure...\n",
      "Extracting EDF parameters from E:\\Signal\\New folder\\s27.bdf...\n",
      "BDF file detected\n",
      "Setting channel info structure...\n",
      "Creating raw.info structure...\n",
      "Extracting EDF parameters from E:\\Signal\\New folder\\s28.bdf...\n",
      "BDF file detected\n",
      "Setting channel info structure...\n",
      "Creating raw.info structure...\n",
      "Extracting EDF parameters from E:\\Signal\\New folder\\s29.bdf...\n",
      "BDF file detected\n",
      "Setting channel info structure...\n",
      "Creating raw.info structure...\n"
     ]
    },
    {
     "name": "stderr",
     "output_type": "stream",
     "text": [
      "C:\\Users\\ankit\\AppData\\Local\\Temp\\ipykernel_11300\\3223892504.py:4: RuntimeWarning: Channel names are not unique, found duplicates for: {''}. Applying running numbers for duplicates.\n",
      "  raw = mne.io.read_raw_bdf(filename, preload=False)\n"
     ]
    },
    {
     "name": "stdout",
     "output_type": "stream",
     "text": [
      "Extracting EDF parameters from E:\\Signal\\New folder\\s30.bdf...\n",
      "BDF file detected\n",
      "Setting channel info structure...\n",
      "Creating raw.info structure...\n"
     ]
    },
    {
     "name": "stderr",
     "output_type": "stream",
     "text": [
      "C:\\Users\\ankit\\AppData\\Local\\Temp\\ipykernel_11300\\3223892504.py:4: RuntimeWarning: Channel names are not unique, found duplicates for: {''}. Applying running numbers for duplicates.\n",
      "  raw = mne.io.read_raw_bdf(filename, preload=False)\n"
     ]
    },
    {
     "name": "stdout",
     "output_type": "stream",
     "text": [
      "Extracting EDF parameters from E:\\Signal\\New folder\\s31.bdf...\n",
      "BDF file detected\n",
      "Setting channel info structure...\n",
      "Creating raw.info structure...\n"
     ]
    },
    {
     "name": "stderr",
     "output_type": "stream",
     "text": [
      "C:\\Users\\ankit\\AppData\\Local\\Temp\\ipykernel_11300\\3223892504.py:4: RuntimeWarning: Channel names are not unique, found duplicates for: {''}. Applying running numbers for duplicates.\n",
      "  raw = mne.io.read_raw_bdf(filename, preload=False)\n"
     ]
    },
    {
     "name": "stdout",
     "output_type": "stream",
     "text": [
      "Extracting EDF parameters from E:\\Signal\\New folder\\s32.bdf...\n",
      "BDF file detected\n",
      "Setting channel info structure...\n",
      "Creating raw.info structure...\n"
     ]
    },
    {
     "name": "stderr",
     "output_type": "stream",
     "text": [
      "C:\\Users\\ankit\\AppData\\Local\\Temp\\ipykernel_11300\\3223892504.py:4: RuntimeWarning: Channel names are not unique, found duplicates for: {''}. Applying running numbers for duplicates.\n",
      "  raw = mne.io.read_raw_bdf(filename, preload=False)\n"
     ]
    }
   ],
   "source": [
    "# Load the .bdf EEG data files\n",
    "raws = []\n",
    "for i,filename in enumerate(filenames):\n",
    "    raw = mne.io.read_raw_bdf(filename, preload=False)\n",
    "    raw.resample(128)\n",
    "    raw.crop(tmin=0, tmax=60)\n",
    "    raws.append(raw)"
   ]
  },
  {
   "cell_type": "code",
   "execution_count": 5,
   "id": "9949a9a2",
   "metadata": {},
   "outputs": [
    {
     "data": {
      "text/plain": [
       "['Fp1',\n",
       " 'AF3',\n",
       " 'F3',\n",
       " 'F7',\n",
       " 'FC5',\n",
       " 'FC1',\n",
       " 'C3',\n",
       " 'T7',\n",
       " 'CP5',\n",
       " 'CP1',\n",
       " 'P3',\n",
       " 'P7',\n",
       " 'PO3',\n",
       " 'O1',\n",
       " 'Oz',\n",
       " 'Pz',\n",
       " 'Fp2',\n",
       " 'AF4',\n",
       " 'Fz',\n",
       " 'F4',\n",
       " 'F8',\n",
       " 'FC6',\n",
       " 'FC2',\n",
       " 'Cz',\n",
       " 'C4',\n",
       " 'T8',\n",
       " 'CP6',\n",
       " 'CP2',\n",
       " 'P4',\n",
       " 'P8',\n",
       " 'PO4',\n",
       " 'O2',\n",
       " 'EXG1',\n",
       " 'EXG2',\n",
       " 'EXG3',\n",
       " 'EXG4',\n",
       " 'EXG5',\n",
       " 'EXG6',\n",
       " 'EXG7',\n",
       " 'EXG8',\n",
       " 'GSR1',\n",
       " 'GSR2',\n",
       " 'Erg1',\n",
       " 'Erg2',\n",
       " 'Resp',\n",
       " 'Plet',\n",
       " 'Temp',\n",
       " '']"
      ]
     },
     "execution_count": 5,
     "metadata": {},
     "output_type": "execute_result"
    }
   ],
   "source": [
    "# Concatenate the cropped raw objects into a single raw object\n",
    "# raw_concatenated = mne.concatenate_raws(raws)\n",
    "raws[23].info['ch_names']"
   ]
  },
  {
   "cell_type": "code",
   "execution_count": 6,
   "id": "383ebb77",
   "metadata": {},
   "outputs": [
    {
     "ename": "NameError",
     "evalue": "name 'raw_concatenated' is not defined",
     "output_type": "error",
     "traceback": [
      "\u001b[1;31m---------------------------------------------------------------------------\u001b[0m",
      "\u001b[1;31mNameError\u001b[0m                                 Traceback (most recent call last)",
      "Cell \u001b[1;32mIn[6], line 2\u001b[0m\n\u001b[0;32m      1\u001b[0m \u001b[38;5;66;03m# Convert the concatenated raw object to a Pandas DataFrame\u001b[39;00m\n\u001b[1;32m----> 2\u001b[0m df \u001b[38;5;241m=\u001b[39m pd\u001b[38;5;241m.\u001b[39mDataFrame(\u001b[43mraw_concatenated\u001b[49m\u001b[38;5;241m.\u001b[39mget_data()\u001b[38;5;241m.\u001b[39mT, columns\u001b[38;5;241m=\u001b[39mraw_concatenated\u001b[38;5;241m.\u001b[39mch_names)\n",
      "\u001b[1;31mNameError\u001b[0m: name 'raw_concatenated' is not defined"
     ]
    }
   ],
   "source": [
    "# Convert the concatenated raw object to a Pandas DataFrame\n",
    "df = pd.DataFrame(raw_concatenated.get_data().T, columns=raw_concatenated.ch_names)"
   ]
  },
  {
   "cell_type": "code",
   "execution_count": null,
   "id": "a280bcef",
   "metadata": {},
   "outputs": [],
   "source": [
    "    "
   ]
  }
 ],
 "metadata": {
  "kernelspec": {
   "display_name": "Python 3 (ipykernel)",
   "language": "python",
   "name": "python3"
  },
  "language_info": {
   "codemirror_mode": {
    "name": "ipython",
    "version": 3
   },
   "file_extension": ".py",
   "mimetype": "text/x-python",
   "name": "python",
   "nbconvert_exporter": "python",
   "pygments_lexer": "ipython3",
   "version": "3.10.8"
  }
 },
 "nbformat": 4,
 "nbformat_minor": 5
}
