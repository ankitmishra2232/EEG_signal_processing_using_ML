{
 "cells": [
  {
   "cell_type": "code",
   "execution_count": 1,
   "id": "f28ed706",
   "metadata": {},
   "outputs": [],
   "source": [
    "import mne\n",
    "import glob\n",
    "import numpy as np\n",
    "import pandas as pd"
   ]
  },
  {
   "cell_type": "code",
   "execution_count": 2,
   "id": "2f9b5ee3",
   "metadata": {},
   "outputs": [],
   "source": [
    "# List of .bdf EEG data files\n",
    "filenames = glob.glob(\"E:/Signal/New folder/*.bdf\")"
   ]
  },
  {
   "cell_type": "code",
   "execution_count": 3,
   "id": "bca5b2cb",
   "metadata": {},
   "outputs": [
    {
     "data": {
      "text/plain": [
       "['E:/Signal/New folder\\\\s01.bdf',\n",
       " 'E:/Signal/New folder\\\\s02.bdf',\n",
       " 'E:/Signal/New folder\\\\s03.bdf',\n",
       " 'E:/Signal/New folder\\\\s04.bdf',\n",
       " 'E:/Signal/New folder\\\\s05.bdf',\n",
       " 'E:/Signal/New folder\\\\s06.bdf',\n",
       " 'E:/Signal/New folder\\\\s07.bdf',\n",
       " 'E:/Signal/New folder\\\\s08.bdf',\n",
       " 'E:/Signal/New folder\\\\s09.bdf',\n",
       " 'E:/Signal/New folder\\\\s10.bdf',\n",
       " 'E:/Signal/New folder\\\\s11.bdf',\n",
       " 'E:/Signal/New folder\\\\s12.bdf',\n",
       " 'E:/Signal/New folder\\\\s13.bdf',\n",
       " 'E:/Signal/New folder\\\\s14.bdf',\n",
       " 'E:/Signal/New folder\\\\s15.bdf',\n",
       " 'E:/Signal/New folder\\\\s16.bdf',\n",
       " 'E:/Signal/New folder\\\\s17.bdf',\n",
       " 'E:/Signal/New folder\\\\s18.bdf',\n",
       " 'E:/Signal/New folder\\\\s19.bdf',\n",
       " 'E:/Signal/New folder\\\\s20.bdf']"
      ]
     },
     "execution_count": 3,
     "metadata": {},
     "output_type": "execute_result"
    }
   ],
   "source": [
    "filenames"
   ]
  },
  {
   "cell_type": "code",
   "execution_count": 4,
   "id": "8ebdfcb9",
   "metadata": {},
   "outputs": [
    {
     "name": "stdout",
     "output_type": "stream",
     "text": [
      "Extracting EDF parameters from E:\\Signal\\New folder\\s01.bdf...\n",
      "BDF file detected\n",
      "Setting channel info structure...\n",
      "Creating raw.info structure...\n",
      "Trigger channel has a non-zero initial value of 65536 (consider using initial_event=True to detect this event)\n",
      "Removing orphaned offset at the beginning of the file.\n",
      "13760 events found\n",
      "Event IDs: [1 2 3 4 5 6 7]\n",
      "Trigger channel has a non-zero initial value of 65536 (consider using initial_event=True to detect this event)\n",
      "Removing orphaned offset at the beginning of the file.\n",
      "298 events found\n",
      "Event IDs: [1 2 3 4 5 6 7]\n",
      "Extracting EDF parameters from E:\\Signal\\New folder\\s02.bdf...\n",
      "BDF file detected\n",
      "Setting channel info structure...\n",
      "Creating raw.info structure...\n"
     ]
    },
    {
     "name": "stderr",
     "output_type": "stream",
     "text": [
      "C:\\Users\\ankit\\AppData\\Local\\Temp\\ipykernel_2484\\3223892504.py:5: RuntimeWarning: Resampling of the stim channels caused event information to become unreliable. Consider finding events on the original data and passing the event matrix as a parameter.\n",
      "  raw.resample(128)\n"
     ]
    },
    {
     "name": "stdout",
     "output_type": "stream",
     "text": [
      "Trigger channel has a non-zero initial value of 65536 (consider using initial_event=True to detect this event)\n",
      "Removing orphaned offset at the beginning of the file.\n",
      "287 events found\n",
      "Event IDs: [1 2 3 4 5 7]\n",
      "Trigger channel has a non-zero initial value of 65536 (consider using initial_event=True to detect this event)\n",
      "Removing orphaned offset at the beginning of the file.\n",
      "286 events found\n",
      "Event IDs: [1 2 3 4 5 7]\n",
      "Extracting EDF parameters from E:\\Signal\\New folder\\s03.bdf...\n",
      "BDF file detected\n",
      "Setting channel info structure...\n",
      "Creating raw.info structure...\n"
     ]
    },
    {
     "name": "stderr",
     "output_type": "stream",
     "text": [
      "C:\\Users\\ankit\\AppData\\Local\\Temp\\ipykernel_2484\\3223892504.py:5: RuntimeWarning: Resampling of the stim channels caused event information to become unreliable. Consider finding events on the original data and passing the event matrix as a parameter.\n",
      "  raw.resample(128)\n"
     ]
    },
    {
     "name": "stdout",
     "output_type": "stream",
     "text": [
      "Trigger channel has a non-zero initial value of 65536 (consider using initial_event=True to detect this event)\n",
      "Removing orphaned offset at the beginning of the file.\n",
      "284 events found\n",
      "Event IDs: [1 2 3 4 5 7]\n",
      "Trigger channel has a non-zero initial value of 65536 (consider using initial_event=True to detect this event)\n",
      "Removing orphaned offset at the beginning of the file.\n",
      "284 events found\n",
      "Event IDs: [1 2 3 4 5 7]\n",
      "Extracting EDF parameters from E:\\Signal\\New folder\\s04.bdf...\n",
      "BDF file detected\n",
      "Setting channel info structure...\n",
      "Creating raw.info structure...\n",
      "Trigger channel has a non-zero initial value of 65536 (consider using initial_event=True to detect this event)\n",
      "Removing orphaned offset at the beginning of the file.\n",
      "286 events found\n",
      "Event IDs: [1 2 3 4 5 7]\n",
      "Trigger channel has a non-zero initial value of 65536 (consider using initial_event=True to detect this event)\n",
      "Removing orphaned offset at the beginning of the file.\n",
      "285 events found\n",
      "Event IDs: [1 2 3 4 5 7]\n",
      "Extracting EDF parameters from E:\\Signal\\New folder\\s05.bdf...\n",
      "BDF file detected\n",
      "Setting channel info structure...\n",
      "Creating raw.info structure...\n"
     ]
    },
    {
     "name": "stderr",
     "output_type": "stream",
     "text": [
      "C:\\Users\\ankit\\AppData\\Local\\Temp\\ipykernel_2484\\3223892504.py:5: RuntimeWarning: Resampling of the stim channels caused event information to become unreliable. Consider finding events on the original data and passing the event matrix as a parameter.\n",
      "  raw.resample(128)\n"
     ]
    },
    {
     "name": "stdout",
     "output_type": "stream",
     "text": [
      "Trigger channel has a non-zero initial value of 65536 (consider using initial_event=True to detect this event)\n",
      "Removing orphaned offset at the beginning of the file.\n",
      "288 events found\n",
      "Event IDs: [1 2 3 4 5 7]\n",
      "Trigger channel has a non-zero initial value of 65536 (consider using initial_event=True to detect this event)\n",
      "Removing orphaned offset at the beginning of the file.\n",
      "288 events found\n",
      "Event IDs: [1 2 3 4 5 7]\n",
      "Extracting EDF parameters from E:\\Signal\\New folder\\s06.bdf...\n",
      "BDF file detected\n",
      "Setting channel info structure...\n",
      "Creating raw.info structure...\n",
      "Trigger channel has a non-zero initial value of 65536 (consider using initial_event=True to detect this event)\n",
      "Removing orphaned offset at the beginning of the file.\n",
      "288 events found\n",
      "Event IDs: [1 2 3 4 5 7]\n",
      "Trigger channel has a non-zero initial value of 65536 (consider using initial_event=True to detect this event)\n",
      "Removing orphaned offset at the beginning of the file.\n",
      "287 events found\n",
      "Event IDs: [1 2 3 4 5 7]\n",
      "Extracting EDF parameters from E:\\Signal\\New folder\\s07.bdf...\n",
      "BDF file detected\n",
      "Setting channel info structure...\n",
      "Creating raw.info structure...\n"
     ]
    },
    {
     "name": "stderr",
     "output_type": "stream",
     "text": [
      "C:\\Users\\ankit\\AppData\\Local\\Temp\\ipykernel_2484\\3223892504.py:5: RuntimeWarning: Resampling of the stim channels caused event information to become unreliable. Consider finding events on the original data and passing the event matrix as a parameter.\n",
      "  raw.resample(128)\n"
     ]
    },
    {
     "name": "stdout",
     "output_type": "stream",
     "text": [
      "Trigger channel has a non-zero initial value of 65536 (consider using initial_event=True to detect this event)\n",
      "Removing orphaned offset at the beginning of the file.\n",
      "288 events found\n",
      "Event IDs: [1 2 3 4 5 7]\n",
      "Trigger channel has a non-zero initial value of 65536 (consider using initial_event=True to detect this event)\n",
      "Removing orphaned offset at the beginning of the file.\n",
      "287 events found\n",
      "Event IDs: [1 2 3 4 5 7]\n",
      "Extracting EDF parameters from E:\\Signal\\New folder\\s08.bdf...\n",
      "BDF file detected\n",
      "Setting channel info structure...\n",
      "Creating raw.info structure...\n"
     ]
    },
    {
     "name": "stderr",
     "output_type": "stream",
     "text": [
      "C:\\Users\\ankit\\AppData\\Local\\Temp\\ipykernel_2484\\3223892504.py:5: RuntimeWarning: Resampling of the stim channels caused event information to become unreliable. Consider finding events on the original data and passing the event matrix as a parameter.\n",
      "  raw.resample(128)\n"
     ]
    },
    {
     "name": "stdout",
     "output_type": "stream",
     "text": [
      "Trigger channel has a non-zero initial value of 65536 (consider using initial_event=True to detect this event)\n",
      "Removing orphaned offset at the beginning of the file.\n",
      "288 events found\n",
      "Event IDs: [1 2 3 4 5 7]\n",
      "Trigger channel has a non-zero initial value of 65536 (consider using initial_event=True to detect this event)\n",
      "Removing orphaned offset at the beginning of the file.\n",
      "287 events found\n",
      "Event IDs: [1 2 3 4 5 7]\n",
      "Extracting EDF parameters from E:\\Signal\\New folder\\s09.bdf...\n",
      "BDF file detected\n",
      "Setting channel info structure...\n",
      "Creating raw.info structure...\n"
     ]
    },
    {
     "name": "stderr",
     "output_type": "stream",
     "text": [
      "C:\\Users\\ankit\\AppData\\Local\\Temp\\ipykernel_2484\\3223892504.py:5: RuntimeWarning: Resampling of the stim channels caused event information to become unreliable. Consider finding events on the original data and passing the event matrix as a parameter.\n",
      "  raw.resample(128)\n"
     ]
    },
    {
     "name": "stdout",
     "output_type": "stream",
     "text": [
      "Trigger channel has a non-zero initial value of 65536 (consider using initial_event=True to detect this event)\n",
      "Removing orphaned offset at the beginning of the file.\n",
      "288 events found\n",
      "Event IDs: [1 2 3 4 5 7]\n",
      "Trigger channel has a non-zero initial value of 65536 (consider using initial_event=True to detect this event)\n",
      "Removing orphaned offset at the beginning of the file.\n",
      "287 events found\n",
      "Event IDs: [1 2 3 4 5 7]\n",
      "Extracting EDF parameters from E:\\Signal\\New folder\\s10.bdf...\n",
      "BDF file detected\n",
      "Setting channel info structure...\n",
      "Creating raw.info structure...\n"
     ]
    },
    {
     "name": "stderr",
     "output_type": "stream",
     "text": [
      "C:\\Users\\ankit\\AppData\\Local\\Temp\\ipykernel_2484\\3223892504.py:5: RuntimeWarning: Resampling of the stim channels caused event information to become unreliable. Consider finding events on the original data and passing the event matrix as a parameter.\n",
      "  raw.resample(128)\n"
     ]
    },
    {
     "name": "stdout",
     "output_type": "stream",
     "text": [
      "Trigger channel has a non-zero initial value of 65536 (consider using initial_event=True to detect this event)\n",
      "Removing orphaned offset at the beginning of the file.\n",
      "288 events found\n",
      "Event IDs: [1 2 3 4 5 7]\n",
      "Trigger channel has a non-zero initial value of 65536 (consider using initial_event=True to detect this event)\n",
      "Removing orphaned offset at the beginning of the file.\n",
      "288 events found\n",
      "Event IDs: [1 2 3 4 5 7]\n",
      "Extracting EDF parameters from E:\\Signal\\New folder\\s11.bdf...\n",
      "BDF file detected\n",
      "Setting channel info structure...\n",
      "Creating raw.info structure...\n",
      "Trigger channel has a non-zero initial value of 65536 (consider using initial_event=True to detect this event)\n",
      "Removing orphaned offset at the beginning of the file.\n",
      "288 events found\n",
      "Event IDs: [1 2 3 4 5 7]\n",
      "Trigger channel has a non-zero initial value of 65536 (consider using initial_event=True to detect this event)\n",
      "Removing orphaned offset at the beginning of the file.\n",
      "287 events found\n",
      "Event IDs: [1 2 3 4 5 7]\n",
      "Extracting EDF parameters from E:\\Signal\\New folder\\s12.bdf...\n",
      "BDF file detected\n",
      "Setting channel info structure...\n",
      "Creating raw.info structure...\n"
     ]
    },
    {
     "name": "stderr",
     "output_type": "stream",
     "text": [
      "C:\\Users\\ankit\\AppData\\Local\\Temp\\ipykernel_2484\\3223892504.py:5: RuntimeWarning: Resampling of the stim channels caused event information to become unreliable. Consider finding events on the original data and passing the event matrix as a parameter.\n",
      "  raw.resample(128)\n"
     ]
    },
    {
     "name": "stdout",
     "output_type": "stream",
     "text": [
      "Trigger channel has a non-zero initial value of 65536 (consider using initial_event=True to detect this event)\n",
      "Removing orphaned offset at the beginning of the file.\n",
      "288 events found\n",
      "Event IDs: [1 2 3 4 5 7]\n",
      "Trigger channel has a non-zero initial value of 65536 (consider using initial_event=True to detect this event)\n",
      "Removing orphaned offset at the beginning of the file.\n",
      "287 events found\n",
      "Event IDs: [1 2 3 4 5 7]\n",
      "Extracting EDF parameters from E:\\Signal\\New folder\\s13.bdf...\n",
      "BDF file detected\n",
      "Setting channel info structure...\n",
      "Creating raw.info structure...\n"
     ]
    },
    {
     "name": "stderr",
     "output_type": "stream",
     "text": [
      "C:\\Users\\ankit\\AppData\\Local\\Temp\\ipykernel_2484\\3223892504.py:5: RuntimeWarning: Resampling of the stim channels caused event information to become unreliable. Consider finding events on the original data and passing the event matrix as a parameter.\n",
      "  raw.resample(128)\n"
     ]
    },
    {
     "name": "stdout",
     "output_type": "stream",
     "text": [
      "Trigger channel has a non-zero initial value of 65536 (consider using initial_event=True to detect this event)\n",
      "Removing orphaned offset at the beginning of the file.\n",
      "289 events found\n",
      "Event IDs: [    1     2     3     4     5     7 65536]\n",
      "Trigger channel has a non-zero initial value of 65536 (consider using initial_event=True to detect this event)\n",
      "Removing orphaned offset at the beginning of the file.\n",
      "289 events found\n",
      "Event IDs: [    1     2     3     4     5     7 65536]\n",
      "Extracting EDF parameters from E:\\Signal\\New folder\\s14.bdf...\n",
      "BDF file detected\n",
      "Setting channel info structure...\n",
      "Creating raw.info structure...\n",
      "Trigger channel has a non-zero initial value of 65536 (consider using initial_event=True to detect this event)\n",
      "Removing orphaned offset at the beginning of the file.\n",
      "288 events found\n",
      "Event IDs: [1 2 3 4 5 7]\n",
      "Trigger channel has a non-zero initial value of 65536 (consider using initial_event=True to detect this event)\n",
      "Removing orphaned offset at the beginning of the file.\n",
      "287 events found\n",
      "Event IDs: [1 2 3 4 5 7]\n",
      "Extracting EDF parameters from E:\\Signal\\New folder\\s15.bdf...\n",
      "BDF file detected\n",
      "Setting channel info structure...\n",
      "Creating raw.info structure...\n"
     ]
    },
    {
     "name": "stderr",
     "output_type": "stream",
     "text": [
      "C:\\Users\\ankit\\AppData\\Local\\Temp\\ipykernel_2484\\3223892504.py:5: RuntimeWarning: Resampling of the stim channels caused event information to become unreliable. Consider finding events on the original data and passing the event matrix as a parameter.\n",
      "  raw.resample(128)\n"
     ]
    },
    {
     "name": "stdout",
     "output_type": "stream",
     "text": [
      "Trigger channel has a non-zero initial value of 65536 (consider using initial_event=True to detect this event)\n",
      "Removing orphaned offset at the beginning of the file.\n",
      "288 events found\n",
      "Event IDs: [1 2 3 4 5 7]\n",
      "Trigger channel has a non-zero initial value of 65536 (consider using initial_event=True to detect this event)\n",
      "Removing orphaned offset at the beginning of the file.\n",
      "288 events found\n",
      "Event IDs: [1 2 3 4 5 7]\n",
      "Extracting EDF parameters from E:\\Signal\\New folder\\s16.bdf...\n",
      "BDF file detected\n",
      "Setting channel info structure...\n",
      "Creating raw.info structure...\n",
      "Trigger channel has a non-zero initial value of 65536 (consider using initial_event=True to detect this event)\n",
      "Removing orphaned offset at the beginning of the file.\n",
      "288 events found\n",
      "Event IDs: [1 2 3 4 5 7]\n",
      "Trigger channel has a non-zero initial value of 65536 (consider using initial_event=True to detect this event)\n",
      "Removing orphaned offset at the beginning of the file.\n",
      "288 events found\n",
      "Event IDs: [1 2 3 4 5 7]\n",
      "Extracting EDF parameters from E:\\Signal\\New folder\\s17.bdf...\n",
      "BDF file detected\n",
      "Setting channel info structure...\n",
      "Creating raw.info structure...\n",
      "Trigger channel has a non-zero initial value of 65536 (consider using initial_event=True to detect this event)\n",
      "Removing orphaned offset at the beginning of the file.\n",
      "288 events found\n",
      "Event IDs: [1 2 3 4 5 7]\n",
      "Trigger channel has a non-zero initial value of 65536 (consider using initial_event=True to detect this event)\n",
      "Removing orphaned offset at the beginning of the file.\n",
      "288 events found\n",
      "Event IDs: [1 2 3 4 5 7]\n",
      "Extracting EDF parameters from E:\\Signal\\New folder\\s18.bdf...\n",
      "BDF file detected\n",
      "Setting channel info structure...\n",
      "Creating raw.info structure...\n",
      "Trigger channel has a non-zero initial value of 65536 (consider using initial_event=True to detect this event)\n",
      "Removing orphaned offset at the beginning of the file.\n",
      "288 events found\n",
      "Event IDs: [1 2 3 4 5 7]\n",
      "Trigger channel has a non-zero initial value of 65536 (consider using initial_event=True to detect this event)\n",
      "Removing orphaned offset at the beginning of the file.\n",
      "288 events found\n",
      "Event IDs: [1 2 3 4 5 7]\n",
      "Extracting EDF parameters from E:\\Signal\\New folder\\s19.bdf...\n",
      "BDF file detected\n",
      "Setting channel info structure...\n",
      "Creating raw.info structure...\n",
      "Trigger channel has a non-zero initial value of 65536 (consider using initial_event=True to detect this event)\n",
      "Removing orphaned offset at the beginning of the file.\n",
      "288 events found\n",
      "Event IDs: [1 2 3 4 5 7]\n",
      "Trigger channel has a non-zero initial value of 65536 (consider using initial_event=True to detect this event)\n",
      "Removing orphaned offset at the beginning of the file.\n",
      "287 events found\n",
      "Event IDs: [1 2 3 4 5 7]\n",
      "Extracting EDF parameters from E:\\Signal\\New folder\\s20.bdf...\n",
      "BDF file detected\n",
      "Setting channel info structure...\n",
      "Creating raw.info structure...\n"
     ]
    },
    {
     "name": "stderr",
     "output_type": "stream",
     "text": [
      "C:\\Users\\ankit\\AppData\\Local\\Temp\\ipykernel_2484\\3223892504.py:5: RuntimeWarning: Resampling of the stim channels caused event information to become unreliable. Consider finding events on the original data and passing the event matrix as a parameter.\n",
      "  raw.resample(128)\n"
     ]
    },
    {
     "name": "stdout",
     "output_type": "stream",
     "text": [
      "Trigger channel has a non-zero initial value of 65536 (consider using initial_event=True to detect this event)\n",
      "Removing orphaned offset at the beginning of the file.\n",
      "288 events found\n",
      "Event IDs: [1 2 3 4 5 7]\n",
      "Trigger channel has a non-zero initial value of 65536 (consider using initial_event=True to detect this event)\n",
      "Removing orphaned offset at the beginning of the file.\n",
      "288 events found\n",
      "Event IDs: [1 2 3 4 5 7]\n"
     ]
    }
   ],
   "source": [
    "# Load the .bdf EEG data files\n",
    "raws = []\n",
    "for i,filename in enumerate(filenames):\n",
    "    raw = mne.io.read_raw_bdf(filename, preload=False)\n",
    "    raw.resample(128)\n",
    "    raw.crop(tmin=0, tmax=60)\n",
    "    raws.append(raw)"
   ]
  },
  {
   "cell_type": "code",
   "execution_count": 5,
   "id": "9949a9a2",
   "metadata": {},
   "outputs": [],
   "source": [
    "# Concatenate the cropped raw objects into a single raw object\n",
    "raw_concatenated = mne.concatenate_raws(raws)\n",
    "# raws[23].info['ch_names']"
   ]
  },
  {
   "cell_type": "code",
   "execution_count": 6,
   "id": "df553996",
   "metadata": {},
   "outputs": [
    {
     "name": "stdout",
     "output_type": "stream",
     "text": [
      "Filtering raw data in 1 contiguous segment\n",
      "Setting up band-pass filter from 0.1 - 40 Hz\n",
      "\n",
      "FIR filter parameters\n",
      "---------------------\n",
      "Designing a one-pass, zero-phase, non-causal bandpass filter:\n",
      "- Windowed time-domain design (firwin) method\n",
      "- Hamming window with 0.0194 passband ripple and 53 dB stopband attenuation\n",
      "- Lower passband edge: 0.10\n",
      "- Lower transition bandwidth: 0.10 Hz (-6 dB cutoff frequency: 0.05 Hz)\n",
      "- Upper passband edge: 40.00 Hz\n",
      "- Upper transition bandwidth: 10.00 Hz (-6 dB cutoff frequency: 45.00 Hz)\n",
      "- Filter length: 4225 samples (33.008 sec)\n",
      "\n"
     ]
    },
    {
     "name": "stderr",
     "output_type": "stream",
     "text": [
      "[Parallel(n_jobs=1)]: Using backend SequentialBackend with 1 concurrent workers.\n",
      "[Parallel(n_jobs=1)]: Done   1 out of   1 | elapsed:    0.0s remaining:    0.0s\n",
      "[Parallel(n_jobs=1)]: Done   2 out of   2 | elapsed:    0.0s remaining:    0.0s\n",
      "[Parallel(n_jobs=1)]: Done   3 out of   3 | elapsed:    0.0s remaining:    0.0s\n",
      "[Parallel(n_jobs=1)]: Done   4 out of   4 | elapsed:    0.0s remaining:    0.0s\n",
      "[Parallel(n_jobs=1)]: Done  47 out of  47 | elapsed:    0.0s finished\n"
     ]
    },
    {
     "data": {
      "text/html": [
       "<table class=\"table table-hover table-striped table-sm table-responsive small\">\n",
       "    <tr>\n",
       "        <th>Measurement date</th>\n",
       "        \n",
       "        <td>July 09, 2010  11:19:49 GMT</td>\n",
       "        \n",
       "    </tr>\n",
       "    <tr>\n",
       "        <th>Experimenter</th>\n",
       "        \n",
       "        <td>Unknown</td>\n",
       "        \n",
       "    </tr>\n",
       "        <th>Participant</th>\n",
       "        \n",
       "        <td>Unknown</td>\n",
       "        \n",
       "    </tr>\n",
       "    <tr>\n",
       "        <th>Digitized points</th>\n",
       "        \n",
       "        <td>Not available</td>\n",
       "        \n",
       "    </tr>\n",
       "    <tr>\n",
       "        <th>Good channels</th>\n",
       "        <td>47 EEG, 1 Stimulus</td>\n",
       "    </tr>\n",
       "    <tr>\n",
       "        <th>Bad channels</th>\n",
       "        <td>None</td>\n",
       "    </tr>\n",
       "    <tr>\n",
       "        <th>EOG channels</th>\n",
       "        <td>Not available</td>\n",
       "    </tr>\n",
       "    <tr>\n",
       "        <th>ECG channels</th>\n",
       "        <td>Not available</td>\n",
       "    \n",
       "    <tr>\n",
       "        <th>Sampling frequency</th>\n",
       "        <td>128.00 Hz</td>\n",
       "    </tr>\n",
       "    \n",
       "    \n",
       "    <tr>\n",
       "        <th>Highpass</th>\n",
       "        <td>0.10 Hz</td>\n",
       "    </tr>\n",
       "    \n",
       "    \n",
       "    <tr>\n",
       "        <th>Lowpass</th>\n",
       "        <td>40.00 Hz</td>\n",
       "    </tr>\n",
       "    \n",
       "    \n",
       "    \n",
       "    <tr>\n",
       "        <th>Filenames</th>\n",
       "        <td>s20.bdf</td>\n",
       "    </tr>\n",
       "    \n",
       "    <tr>\n",
       "        <th>Duration</th>\n",
       "        <td>00:01:00 (HH:MM:SS)</td>\n",
       "    </tr>\n",
       "</table>"
      ],
      "text/plain": [
       "<RawEDF | s20.bdf, 48 x 7681 (60.0 s), ~2.9 MB, data loaded>"
      ]
     },
     "execution_count": 6,
     "metadata": {},
     "output_type": "execute_result"
    }
   ],
   "source": [
    "# Apply low-pass filtering with a cutoff frequency of 40 Hz\n",
    "raw.filter(l_freq=0.1, h_freq=40.0)"
   ]
  },
  {
   "cell_type": "code",
   "execution_count": 20,
   "id": "57321f1f",
   "metadata": {},
   "outputs": [
    {
     "name": "stdout",
     "output_type": "stream",
     "text": [
      "Trigger channel has a non-zero initial value of 65536 (consider using initial_event=True to detect this event)\n",
      "Removing orphaned offset at the beginning of the file.\n",
      "45 events found\n",
      "Event IDs: [    1 65536]\n",
      "Trigger channel has a non-zero initial value of 65536 (consider using initial_event=True to detect this event)\n",
      "Removing orphaned offset at the beginning of the file.\n",
      "45 events found\n",
      "Event IDs: [    1 65536]\n"
     ]
    },
    {
     "data": {
      "text/html": [
       "<table class=\"table table-hover table-striped table-sm table-responsive small\">\n",
       "    <tr>\n",
       "        <th>Measurement date</th>\n",
       "        \n",
       "        <td>July 01, 2010  10:00:16 GMT</td>\n",
       "        \n",
       "    </tr>\n",
       "    <tr>\n",
       "        <th>Experimenter</th>\n",
       "        \n",
       "        <td>Unknown</td>\n",
       "        \n",
       "    </tr>\n",
       "        <th>Participant</th>\n",
       "        \n",
       "        <td>Unknown</td>\n",
       "        \n",
       "    </tr>\n",
       "    <tr>\n",
       "        <th>Digitized points</th>\n",
       "        \n",
       "        <td>Not available</td>\n",
       "        \n",
       "    </tr>\n",
       "    <tr>\n",
       "        <th>Good channels</th>\n",
       "        <td>47 EEG, 1 Stimulus</td>\n",
       "    </tr>\n",
       "    <tr>\n",
       "        <th>Bad channels</th>\n",
       "        <td>None</td>\n",
       "    </tr>\n",
       "    <tr>\n",
       "        <th>EOG channels</th>\n",
       "        <td>Not available</td>\n",
       "    </tr>\n",
       "    <tr>\n",
       "        <th>ECG channels</th>\n",
       "        <td>Not available</td>\n",
       "    \n",
       "    <tr>\n",
       "        <th>Sampling frequency</th>\n",
       "        <td>128.00 Hz</td>\n",
       "    </tr>\n",
       "    \n",
       "    \n",
       "    <tr>\n",
       "        <th>Highpass</th>\n",
       "        <td>0.00 Hz</td>\n",
       "    </tr>\n",
       "    \n",
       "    \n",
       "    <tr>\n",
       "        <th>Lowpass</th>\n",
       "        <td>64.00 Hz</td>\n",
       "    </tr>\n",
       "    \n",
       "    \n",
       "    \n",
       "    <tr>\n",
       "        <th>Filenames</th>\n",
       "        <td>s01.bdf&lt;br&gt;s02.bdf&lt;br&gt;s03.bdf&lt;br&gt;s04.bdf&lt;br&gt;s05.bdf&lt;br&gt;s06.bdf&lt;br&gt;s07.bdf&lt;br&gt;s08.bdf&lt;br&gt;s09.bdf&lt;br&gt;s10.bdf&lt;br&gt;s11.bdf&lt;br&gt;s12.bdf&lt;br&gt;s13.bdf&lt;br&gt;s14.bdf&lt;br&gt;s15.bdf&lt;br&gt;s16.bdf&lt;br&gt;s17.bdf&lt;br&gt;s18.bdf&lt;br&gt;s19.bdf&lt;br&gt;s20.bdf</td>\n",
       "    </tr>\n",
       "    \n",
       "    <tr>\n",
       "        <th>Duration</th>\n",
       "        <td>00:20:01 (HH:MM:SS)</td>\n",
       "    </tr>\n",
       "</table>"
      ],
      "text/plain": [
       "<RawEDF | s01.bdf, 48 x 153620 (1200.1 s), ~56.3 MB, data loaded>"
      ]
     },
     "execution_count": 20,
     "metadata": {},
     "output_type": "execute_result"
    }
   ],
   "source": [
    "raw.resample(128)"
   ]
  },
  {
   "cell_type": "code",
   "execution_count": 21,
   "id": "01f8e86a",
   "metadata": {},
   "outputs": [
    {
     "ename": "AttributeError",
     "evalue": "'RawEDF' object has no attribute 'detrend'",
     "output_type": "error",
     "traceback": [
      "\u001b[1;31m---------------------------------------------------------------------------\u001b[0m",
      "\u001b[1;31mAttributeError\u001b[0m                            Traceback (most recent call last)",
      "Cell \u001b[1;32mIn[21], line 3\u001b[0m\n\u001b[0;32m      1\u001b[0m \u001b[38;5;66;03m# Detrend the signals to remove any linear trends or drifts\u001b[39;00m\n\u001b[1;32m----> 3\u001b[0m \u001b[43mraw\u001b[49m\u001b[38;5;241;43m.\u001b[39;49m\u001b[43mdetrend\u001b[49m(\u001b[38;5;28mtype\u001b[39m\u001b[38;5;241m=\u001b[39m\u001b[38;5;124m'\u001b[39m\u001b[38;5;124mlinear\u001b[39m\u001b[38;5;124m'\u001b[39m)\n",
      "\u001b[1;31mAttributeError\u001b[0m: 'RawEDF' object has no attribute 'detrend'"
     ]
    }
   ],
   "source": [
    "# Detrend the signals to remove any linear trends or drifts\n",
    "\n",
    "# raw.detrend(type='linear')"
   ]
  },
  {
   "cell_type": "code",
   "execution_count": 22,
   "id": "169e7d3e",
   "metadata": {},
   "outputs": [
    {
     "name": "stderr",
     "output_type": "stream",
     "text": [
      "C:\\Users\\ankit\\AppData\\Local\\Temp\\ipykernel_2484\\2684609984.py:4: RuntimeWarning: invalid value encountered in divide\n",
      "  raw_data = (raw_data - np.mean(raw_data, axis=1, keepdims=True)) / np.std(raw_data, axis=1, keepdims=True)\n"
     ]
    }
   ],
   "source": [
    "# Normalize the signals\n",
    "\n",
    "raw_data = raw.get_data()\n",
    "raw_data = (raw_data - np.mean(raw_data, axis=1, keepdims=True)) / np.std(raw_data, axis=1, keepdims=True)"
   ]
  },
  {
   "cell_type": "code",
   "execution_count": 25,
   "id": "24b22ed5",
   "metadata": {},
   "outputs": [
    {
     "name": "stdout",
     "output_type": "stream",
     "text": [
      "Effective window size : 2.000 (s)\n"
     ]
    },
    {
     "name": "stderr",
     "output_type": "stream",
     "text": [
      "C:\\Users\\ankit\\AppData\\Local\\Temp\\ipykernel_2484\\2421683619.py:1: UserWarning: Zero value in spectrum for channel GSR2\n",
      "  spectrum = raw.compute_psd(method=\"welch\")\n"
     ]
    }
   ],
   "source": [
    "spectrum = raw.compute_psd(method=\"welch\")\n",
    "data, freqs = spectrum.get_data(return_freqs=True)"
   ]
  },
  {
   "cell_type": "code",
   "execution_count": 27,
   "id": "f439b8eb",
   "metadata": {},
   "outputs": [
    {
     "data": {
      "text/html": [
       "<table class=\"table table-hover table-striped table-sm table-responsive small\">\n",
       "    <tr>\n",
       "        <th>Data type</th>\n",
       "        <td>Power Spectrum</td>\n",
       "    </tr>\n",
       "    <tr>\n",
       "        <th rowspan=1>Units</th>\n",
       "        <td class=\"justify\">eeg: V²/Hz</td>\n",
       "    </tr>\n",
       "    <tr>\n",
       "        <th>Data source</th>\n",
       "        <td>Raw</td>\n",
       "    </tr><tr>\n",
       "        <th>Dims</th>\n",
       "        <td>channel, freq</td>\n",
       "    </tr>\n",
       "    <tr>\n",
       "        <th>Estimation method</th>\n",
       "        <td>welch</td>\n",
       "    </tr>\n",
       "    \n",
       "    <tr>\n",
       "        <th>Number of channels</th>\n",
       "        <td>47</td>\n",
       "    </tr>\n",
       "    <tr>\n",
       "        <th>Number of frequency bins</th>\n",
       "        <td>129</td>\n",
       "    </tr>\n",
       "    <tr>\n",
       "        <th>Frequency range</th>\n",
       "        <td>0.00 – 64.00 Hz</td>\n",
       "    </tr>\n",
       "</table>"
      ],
      "text/plain": [
       "<Power Spectrum (from Raw, welch method) | 47 channels × 129 freqs, 0.0-64.0 Hz>"
      ]
     },
     "execution_count": 27,
     "metadata": {},
     "output_type": "execute_result"
    }
   ],
   "source": [
    "spectrum"
   ]
  },
  {
   "cell_type": "code",
   "execution_count": 33,
   "id": "4a86718a",
   "metadata": {},
   "outputs": [
    {
     "ename": "AttributeError",
     "evalue": "'numpy.ndarray' object has no attribute 'info'",
     "output_type": "error",
     "traceback": [
      "\u001b[1;31m---------------------------------------------------------------------------\u001b[0m",
      "\u001b[1;31mAttributeError\u001b[0m                            Traceback (most recent call last)",
      "Cell \u001b[1;32mIn[33], line 1\u001b[0m\n\u001b[1;32m----> 1\u001b[0m \u001b[43mdata\u001b[49m\u001b[38;5;241;43m.\u001b[39;49m\u001b[43minfo\u001b[49m()\n",
      "\u001b[1;31mAttributeError\u001b[0m: 'numpy.ndarray' object has no attribute 'info'"
     ]
    }
   ],
   "source": [
    "\\"
   ]
  },
  {
   "cell_type": "code",
   "execution_count": 29,
   "id": "c32b6f3e",
   "metadata": {},
   "outputs": [
    {
     "data": {
      "text/plain": [
       "array([ 0. ,  0.5,  1. ,  1.5,  2. ,  2.5,  3. ,  3.5,  4. ,  4.5,  5. ,\n",
       "        5.5,  6. ,  6.5,  7. ,  7.5,  8. ,  8.5,  9. ,  9.5, 10. , 10.5,\n",
       "       11. , 11.5, 12. , 12.5, 13. , 13.5, 14. , 14.5, 15. , 15.5, 16. ,\n",
       "       16.5, 17. , 17.5, 18. , 18.5, 19. , 19.5, 20. , 20.5, 21. , 21.5,\n",
       "       22. , 22.5, 23. , 23.5, 24. , 24.5, 25. , 25.5, 26. , 26.5, 27. ,\n",
       "       27.5, 28. , 28.5, 29. , 29.5, 30. , 30.5, 31. , 31.5, 32. , 32.5,\n",
       "       33. , 33.5, 34. , 34.5, 35. , 35.5, 36. , 36.5, 37. , 37.5, 38. ,\n",
       "       38.5, 39. , 39.5, 40. , 40.5, 41. , 41.5, 42. , 42.5, 43. , 43.5,\n",
       "       44. , 44.5, 45. , 45.5, 46. , 46.5, 47. , 47.5, 48. , 48.5, 49. ,\n",
       "       49.5, 50. , 50.5, 51. , 51.5, 52. , 52.5, 53. , 53.5, 54. , 54.5,\n",
       "       55. , 55.5, 56. , 56.5, 57. , 57.5, 58. , 58.5, 59. , 59.5, 60. ,\n",
       "       60.5, 61. , 61.5, 62. , 62.5, 63. , 63.5, 64. ])"
      ]
     },
     "execution_count": 29,
     "metadata": {},
     "output_type": "execute_result"
    }
   ],
   "source": [
    "freqs"
   ]
  },
  {
   "cell_type": "code",
   "execution_count": 26,
   "id": "4d4d311a",
   "metadata": {},
   "outputs": [
    {
     "ename": "AttributeError",
     "evalue": "'Spectrum' object has no attribute 'mean'",
     "output_type": "error",
     "traceback": [
      "\u001b[1;31m---------------------------------------------------------------------------\u001b[0m",
      "\u001b[1;31mAttributeError\u001b[0m                            Traceback (most recent call last)",
      "Cell \u001b[1;32mIn[26], line 5\u001b[0m\n\u001b[0;32m      1\u001b[0m \u001b[38;5;66;03m# Calculate the power spectral density of the signals\u001b[39;00m\n\u001b[0;32m      2\u001b[0m \u001b[38;5;66;03m# psd, freqs = mne.time_frequency.psd_welch(raw, fmin=1, fmax=100)\u001b[39;00m\n\u001b[0;32m      3\u001b[0m \n\u001b[0;32m      4\u001b[0m \u001b[38;5;66;03m# Plot the PSD\u001b[39;00m\n\u001b[1;32m----> 5\u001b[0m plt\u001b[38;5;241m.\u001b[39mplot(freqs, \u001b[43mspectrum\u001b[49m\u001b[38;5;241;43m.\u001b[39;49m\u001b[43mmean\u001b[49m(axis\u001b[38;5;241m=\u001b[39m\u001b[38;5;241m0\u001b[39m))\n\u001b[0;32m      6\u001b[0m plt\u001b[38;5;241m.\u001b[39mxlabel(\u001b[38;5;124m'\u001b[39m\u001b[38;5;124mFrequency (Hz)\u001b[39m\u001b[38;5;124m'\u001b[39m)\n\u001b[0;32m      7\u001b[0m plt\u001b[38;5;241m.\u001b[39mylabel(\u001b[38;5;124m'\u001b[39m\u001b[38;5;124mPower Spectral Density (V^2/Hz)\u001b[39m\u001b[38;5;124m'\u001b[39m)\n",
      "\u001b[1;31mAttributeError\u001b[0m: 'Spectrum' object has no attribute 'mean'"
     ]
    }
   ],
   "source": []
  },
  {
   "cell_type": "code",
   "execution_count": null,
   "id": "b13b6cd4",
   "metadata": {},
   "outputs": [],
   "source": []
  },
  {
   "cell_type": "code",
   "execution_count": 8,
   "id": "87295d29",
   "metadata": {},
   "outputs": [],
   "source": [
    "data = raw.get_data().T"
   ]
  },
  {
   "cell_type": "code",
   "execution_count": 9,
   "id": "6e06a3e2",
   "metadata": {},
   "outputs": [],
   "source": [
    "x = data[:, 0]\n",
    "y = data[:, 1]\n",
    "z = data[:, 2]"
   ]
  },
  {
   "cell_type": "code",
   "execution_count": 10,
   "id": "92b3bac2",
   "metadata": {},
   "outputs": [
    {
     "data": {
      "text/plain": [
       "<mpl_toolkits.mplot3d.art3d.Path3DCollection at 0x249b706ef20>"
      ]
     },
     "execution_count": 10,
     "metadata": {},
     "output_type": "execute_result"
    },
    {
     "data": {
      "image/png": "[encoded data removed]",
      "text/plain": [
       "<Figure size 640x480 with 1 Axes>"
      ]
     },
     "metadata": {},
     "output_type": "display_data"
    }
   ],
   "source": [
    "import matplotlib.pyplot as plt\n",
    "from mpl_toolkits.mplot3d import Axes3D\n",
    "\n",
    "fig = plt.figure()\n",
    "ax = fig.add_subplot(111, projection='3d')\n",
    "ax.scatter(x, y, z, c='r', marker='o')"
   ]
  },
  {
   "cell_type": "code",
   "execution_count": null,
   "id": "1c6f2146",
   "metadata": {},
   "outputs": [],
   "source": []
  },
  {
   "cell_type": "code",
   "execution_count": null,
   "id": "1f958151",
   "metadata": {},
   "outputs": [],
   "source": []
  },
  {
   "cell_type": "code",
   "execution_count": null,
   "id": "8e12ac94",
   "metadata": {},
   "outputs": [],
   "source": []
  },
  {
   "cell_type": "code",
   "execution_count": null,
   "id": "3693c7fb",
   "metadata": {},
   "outputs": [],
   "source": []
  },
  {
   "cell_type": "code",
   "execution_count": null,
   "id": "6564d74e",
   "metadata": {},
   "outputs": [],
   "source": []
  },
  {
   "cell_type": "code",
   "execution_count": null,
   "id": "9a25299f",
   "metadata": {},
   "outputs": [],
   "source": []
  },
  {
   "cell_type": "code",
   "execution_count": null,
   "id": "946ac7ed",
   "metadata": {},
   "outputs": [],
   "source": []
  },
  {
   "cell_type": "code",
   "execution_count": null,
   "id": "85df9b15",
   "metadata": {},
   "outputs": [],
   "source": []
  },
  {
   "cell_type": "code",
   "execution_count": null,
   "id": "b3c28e1e",
   "metadata": {},
   "outputs": [],
   "source": []
  },
  {
   "cell_type": "code",
   "execution_count": null,
   "id": "98785e3b",
   "metadata": {},
   "outputs": [],
   "source": []
  },
  {
   "cell_type": "code",
   "execution_count": null,
   "id": "53f0bf3b",
   "metadata": {},
   "outputs": [],
   "source": []
  },
  {
   "cell_type": "code",
   "execution_count": null,
   "id": "58a45403",
   "metadata": {},
   "outputs": [],
   "source": []
  },
  {
   "cell_type": "code",
   "execution_count": null,
   "id": "3de2cda8",
   "metadata": {},
   "outputs": [],
   "source": []
  },
  {
   "cell_type": "code",
   "execution_count": null,
   "id": "4ab95276",
   "metadata": {},
   "outputs": [],
   "source": []
  }
 ],
 "metadata": {
  "kernelspec": {
   "display_name": "Python 3 (ipykernel)",
   "language": "python",
   "name": "python3"
  },
  "language_info": {
   "codemirror_mode": {
    "name": "ipython",
    "version": 3
   },
   "file_extension": ".py",
   "mimetype": "text/x-python",
   "name": "python",
   "nbconvert_exporter": "python",
   "pygments_lexer": "ipython3",
   "version": "3.10.8"
  }
 },
 "nbformat": 4,
 "nbformat_minor": 5
}
